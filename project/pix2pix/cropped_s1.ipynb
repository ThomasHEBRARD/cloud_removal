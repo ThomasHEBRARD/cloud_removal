{
 "cells": [
  {
   "cell_type": "code",
   "execution_count": 2,
   "metadata": {},
   "outputs": [],
   "source": [
    "import os\n",
    "import json\n",
    "import time\n",
    "import random\n",
    "import numpy as np\n",
    "from datetime import datetime, timedelta\n",
    "from osgeo import gdal\n",
    "from matplotlib import pyplot as plt"
   ]
  },
  {
   "cell_type": "code",
   "execution_count": 3,
   "metadata": {},
   "outputs": [],
   "source": [
    "DATA_ROOT_DIR = \"/Volumes/X/Data/fusion-s1-s2/\""
   ]
  },
  {
   "cell_type": "code",
   "execution_count": 4,
   "metadata": {},
   "outputs": [],
   "source": [
    "CROP_SIZE = 256"
   ]
  },
  {
   "cell_type": "code",
   "execution_count": 23,
   "metadata": {},
   "outputs": [],
   "source": [
    "ORBIT = \"044\"\n",
    "S1_ROOT_PATH = f\"{DATA_ROOT_DIR}s1db/32VNH/threeband/{ORBIT}/\""
   ]
  },
  {
   "cell_type": "code",
   "execution_count": 16,
   "metadata": {},
   "outputs": [],
   "source": [
    "im = gdal.Open(S1_ROOT_PATH + \"S1_32VNH_20190103_A_044.tif\")\n",
    "data = np.transpose(im.ReadAsArray(), (1, 2, 0))[:,:,:2]"
   ]
  },
  {
   "cell_type": "code",
   "execution_count": 48,
   "metadata": {},
   "outputs": [],
   "source": [
    "band_map = {\n",
    "    \"HV\": 1,\n",
    "    \"VV\": 2\n",
    "}"
   ]
  },
  {
   "cell_type": "code",
   "execution_count": 51,
   "metadata": {},
   "outputs": [
    {
     "name": "stdout",
     "output_type": "stream",
     "text": [
      "Processing /Volumes/X/Data/fusion-s1-s2/s1db/32VNH/threeband/044/S1_32VNH_20190103_A_044.tif\n"
     ]
    }
   ],
   "source": [
    "for s1 in os.listdir(S1_ROOT_PATH):\n",
    "    image_path = f\"{S1_ROOT_PATH}{s1}\"\n",
    "    name = \"_\".join(s1.split(\"_\")[:3])\n",
    "    image = gdal.Open(image_path)\n",
    "    print(f\"Processing {image_path}\")\n",
    "\n",
    "    width = image.RasterXSize\n",
    "    height = image.RasterYSize\n",
    "\n",
    "    gt = image.GetGeoTransform()\n",
    "\n",
    "    min_x = int(gt[0])\n",
    "    min_y = int(gt[3]) - CROP_SIZE*10\n",
    "    max_x = int(gt[0] + width*gt[1])\n",
    "    max_y = int(gt[3] + height*gt[5]) - CROP_SIZE*10\n",
    "\n",
    "    x_length = range(min_x, max_x + CROP_SIZE + 1, CROP_SIZE*10)\n",
    "    y_length = range(min_y, max_y - CROP_SIZE + 1, -CROP_SIZE*10)\n",
    "\n",
    "    ALL_XY_COORDINATES = [(x, y) for y in y_length for x in x_length]\n",
    "\n",
    "    for band in [\"HV\", \"VV\"]:\n",
    "        output_vrt_path = f\"data/cropped/s1/{name}_{band}.vrt\"\n",
    "        gdal.Translate(output_vrt_path, image_path, format=\"VRT\", bandList=[band_map[band]])\n",
    "        \n",
    "        # for idx, (x, y) in enumerate(ALL_XY_COORDINATES):\n",
    "        #     if not os.path.exists(f\"data/cropped/s1/{name}/{name}_{band}\"):\n",
    "        #         os.makedirs(f\"data/cropped/s1/{name}/{name}_{band}\")\n",
    "            \n",
    "        #     vrt_options = gdal.BuildVRTOptions(resolution=\"highest\", outputBounds=(x, y, x + CROP_SIZE * 10, y + CROP_SIZE * 10))\n",
    "    break"
   ]
  },
  {
   "cell_type": "code",
   "execution_count": null,
   "metadata": {},
   "outputs": [],
   "source": []
  }
 ],
 "metadata": {
  "kernelspec": {
   "display_name": "venv",
   "language": "python",
   "name": "python3"
  },
  "language_info": {
   "codemirror_mode": {
    "name": "ipython",
    "version": 3
   },
   "file_extension": ".py",
   "mimetype": "text/x-python",
   "name": "python",
   "nbconvert_exporter": "python",
   "pygments_lexer": "ipython3",
   "version": "3.10.10"
  },
  "orig_nbformat": 4
 },
 "nbformat": 4,
 "nbformat_minor": 2
}
