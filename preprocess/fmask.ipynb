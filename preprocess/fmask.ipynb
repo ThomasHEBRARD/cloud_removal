{
 "cells": [
  {
   "cell_type": "code",
   "execution_count": 1,
   "metadata": {},
   "outputs": [],
   "source": [
    "import importlib\n",
    "from osgeo import gdal\n",
    "import pprint\n",
    "import json\n",
    "import numpy as np\n",
    "import matplotlib.pyplot as plt\n",
    "import itertools\n",
    "from collections import Counter\n",
    "\n",
    "# 0 => clear land pixel\n",
    "# 1 => clear water pixel\n",
    "# 2 => cloud shadow\n",
    "# 3 => snow\n",
    "# 4 => cloud"
   ]
  },
  {
   "cell_type": "code",
   "execution_count": 15,
   "metadata": {},
   "outputs": [],
   "source": [
    "import os\n",
    "\n",
    "directory = f\"/Volumes/X/Data/fusion-s1-s2/s2/fmask/\"  # replace with the path to your directory\n",
    "fmask_paths = [\n",
    "    f\"/Volumes/X/Data/fusion-s1-s2/s2/fmask/\" +\n",
    "    folder_name +\n",
    "    \"/\" +\n",
    "    folder_name +\n",
    "    \"_fmask.tif\"\n",
    "    for folder_name in os.listdir(directory)\n",
    "]"
   ]
  },
  {
   "cell_type": "code",
   "execution_count": 3,
   "metadata": {},
   "outputs": [],
   "source": [
    "MAP_CLOUD = {\n",
    "    0: \"clear_land\",\n",
    "    1: \"cloud_water\", \n",
    "    2: \"cloud_shadow\",\n",
    "    3: \"snow\",\n",
    "    4: \"cloud\",\n",
    "    255: \"no_observation\"\n",
    "}"
   ]
  },
  {
   "cell_type": "code",
   "execution_count": 17,
   "metadata": {},
   "outputs": [],
   "source": [
    "import os\n",
    "from osgeo import gdal\n",
    "\n",
    "def fmask_double(input_path, output_path):\n",
    "    # Open raster and get band\n",
    "    in_ds = gdal.Open(input_path)\n",
    "    in_band = in_ds.GetRasterBand(1)\n",
    "\n",
    "    # Multiply output size by 3 \n",
    "    out_rows = in_band.YSize * 2\n",
    "    out_columns = in_band.XSize * 2\n",
    "\n",
    "    # Create new data source (raster)\n",
    "    gtiff_driver = gdal.GetDriverByName('GTiff')\n",
    "    out_ds = gtiff_driver.Create(output_path, out_columns, out_rows)\n",
    "    out_ds.SetProjection(in_ds.GetProjection())\n",
    "    geotransform = list(in_ds.GetGeoTransform())\n",
    "\n",
    "    # Edit the geotransform so pixels are one-sixth previous size\n",
    "    geotransform[1] /= 2\n",
    "    geotransform[5] /= 2\n",
    "    out_ds.SetGeoTransform(geotransform)\n",
    "\n",
    "    data = in_band.ReadAsArray(buf_xsize=out_columns, buf_ysize=out_rows)  # Specify a larger buffer size when reading data\n",
    "    out_band = out_ds.GetRasterBand(1)\n",
    "    out_band.WriteArray(data)\n",
    "\n",
    "    out_band.FlushCache()\n",
    "    out_band.ComputeStatistics(False)\n",
    "    out_ds.BuildOverviews('average', [2, 4, 8, 16, 32, 64])\n",
    "\n",
    "    del out_ds"
   ]
  },
  {
   "cell_type": "code",
   "execution_count": 20,
   "metadata": {},
   "outputs": [],
   "source": [
    "for fmask_path in fmask_paths:\n",
    "    output_path = fmask_path.split(\".\")[0] + \"_d.tif\"\n",
    "    fmask_double(fmask_path, output_path)"
   ]
  },
  {
   "cell_type": "code",
   "execution_count": 5,
   "metadata": {},
   "outputs": [
    {
     "name": "stdout",
     "output_type": "stream",
     "text": [
      "(5490, 5490)\n",
      "(5490, 5490)\n",
      "(5490, 5490)\n",
      "(5490, 5490)\n"
     ]
    },
    {
     "ename": "KeyboardInterrupt",
     "evalue": "",
     "output_type": "error",
     "traceback": [
      "\u001b[0;31m---------------------------------------------------------------------------\u001b[0m",
      "\u001b[0;31mKeyboardInterrupt\u001b[0m                         Traceback (most recent call last)",
      "Cell \u001b[0;32mIn[5], line 16\u001b[0m\n\u001b[1;32m     12\u001b[0m     data \u001b[39m=\u001b[39m gdal_data\u001b[39m.\u001b[39mReadAsArray()\n\u001b[1;32m     14\u001b[0m shape \u001b[39m=\u001b[39m data\u001b[39m.\u001b[39msize\n\u001b[0;32m---> 16\u001b[0m count \u001b[39m=\u001b[39m \u001b[39mdict\u001b[39m(Counter(itertools\u001b[39m.\u001b[39;49mchain(\u001b[39m*\u001b[39;49mdata)))\n\u001b[1;32m     17\u001b[0m \u001b[39mmap\u001b[39m \u001b[39m=\u001b[39m {MAP_CLOUD[k]: \u001b[39mround\u001b[39m((v\u001b[39m/\u001b[39mshape)\u001b[39m*\u001b[39m\u001b[39m100\u001b[39m, \u001b[39m2\u001b[39m) \u001b[39mfor\u001b[39;00m k, v \u001b[39min\u001b[39;00m count\u001b[39m.\u001b[39mitems()}\n\u001b[1;32m     19\u001b[0m json_data[fmask_path\u001b[39m.\u001b[39msplit(\u001b[39m\"\u001b[39m\u001b[39m/\u001b[39m\u001b[39m\"\u001b[39m)[\u001b[39m-\u001b[39m\u001b[39m1\u001b[39m]] \u001b[39m=\u001b[39m \u001b[39mdict\u001b[39m(\u001b[39msorted\u001b[39m(\u001b[39mmap\u001b[39m\u001b[39m.\u001b[39mitems(), key\u001b[39m=\u001b[39m\u001b[39mlambda\u001b[39;00m x: \u001b[39m-\u001b[39mx[\u001b[39m1\u001b[39m]))\n",
      "File \u001b[0;32m/opt/homebrew/Cellar/python@3.10/3.10.10/Frameworks/Python.framework/Versions/3.10/lib/python3.10/collections/__init__.py:577\u001b[0m, in \u001b[0;36mCounter.__init__\u001b[0;34m(self, iterable, **kwds)\u001b[0m\n\u001b[1;32m    566\u001b[0m \u001b[39m\u001b[39m\u001b[39m'''Create a new, empty Counter object.  And if given, count elements\u001b[39;00m\n\u001b[1;32m    567\u001b[0m \u001b[39mfrom an input iterable.  Or, initialize the count from another mapping\u001b[39;00m\n\u001b[1;32m    568\u001b[0m \u001b[39mof elements to their counts.\u001b[39;00m\n\u001b[0;32m   (...)\u001b[0m\n\u001b[1;32m    574\u001b[0m \n\u001b[1;32m    575\u001b[0m \u001b[39m'''\u001b[39;00m\n\u001b[1;32m    576\u001b[0m \u001b[39msuper\u001b[39m()\u001b[39m.\u001b[39m\u001b[39m__init__\u001b[39m()\n\u001b[0;32m--> 577\u001b[0m \u001b[39mself\u001b[39;49m\u001b[39m.\u001b[39;49mupdate(iterable, \u001b[39m*\u001b[39;49m\u001b[39m*\u001b[39;49mkwds)\n",
      "File \u001b[0;32m/opt/homebrew/Cellar/python@3.10/3.10.10/Frameworks/Python.framework/Versions/3.10/lib/python3.10/collections/__init__.py:670\u001b[0m, in \u001b[0;36mCounter.update\u001b[0;34m(self, iterable, **kwds)\u001b[0m\n\u001b[1;32m    668\u001b[0m             \u001b[39msuper\u001b[39m()\u001b[39m.\u001b[39mupdate(iterable)\n\u001b[1;32m    669\u001b[0m     \u001b[39melse\u001b[39;00m:\n\u001b[0;32m--> 670\u001b[0m         _count_elements(\u001b[39mself\u001b[39;49m, iterable)\n\u001b[1;32m    671\u001b[0m \u001b[39mif\u001b[39;00m kwds:\n\u001b[1;32m    672\u001b[0m     \u001b[39mself\u001b[39m\u001b[39m.\u001b[39mupdate(kwds)\n",
      "\u001b[0;31mKeyboardInterrupt\u001b[0m: "
     ]
    }
   ],
   "source": [
    "json_data = {}\n",
    "\n",
    "FMASK_DIRECTORY = f\"/Volumes/X/Data/fusion-s1-s2/s2/fmask/\"\n",
    "\n",
    "for fmask_path in os.listdir(FMASK_DIRECTORY):\n",
    "    path_to_crops = f\"{FMASK_DIRECTORY}{fmask_path}/{fmask_path}_crops/\"\n",
    "    for im_path in os.listdir(path_to_crops):\n",
    "        x, y = int(im_path.split(\"_\")[-1].split(\".\")[0]), int(im_path.split(\"_\")[-2])\n",
    "        gdal_data = gdal.Open(im_path)\n",
    "        data = gdal_data.ReadAsArray()\n",
    "        \n",
    "        shape = data.size\n",
    "        \n",
    "        count = dict(Counter(itertools.chain(*data)))\n",
    "        map = {MAP_CLOUD[k]: round((v.shape)*100, 2) for k, v in count.items()}\n",
    "        \n",
    "        json_data[im_path.split(\"/\")[-1]] = dict(sorted(map.items(), key=lambda x: -x[1]))\n",
    "\n",
    "with open(\"fmask_stats.json\", \"w\") as f:\n",
    "    json.dump(json_data, f)"
   ]
  },
  {
   "cell_type": "code",
   "execution_count": null,
   "metadata": {},
   "outputs": [],
   "source": []
  }
 ],
 "metadata": {
  "kernelspec": {
   "display_name": "venv",
   "language": "python",
   "name": "python3"
  },
  "language_info": {
   "codemirror_mode": {
    "name": "ipython",
    "version": 3
   },
   "file_extension": ".py",
   "mimetype": "text/x-python",
   "name": "python",
   "nbconvert_exporter": "python",
   "pygments_lexer": "ipython3",
   "version": "3.10.10"
  },
  "orig_nbformat": 4,
  "vscode": {
   "interpreter": {
    "hash": "dea95fc5b86fbf6522516b8c46d4a24409d5c3ef837fd6ef0163978ea2b0251f"
   }
  }
 },
 "nbformat": 4,
 "nbformat_minor": 2
}
