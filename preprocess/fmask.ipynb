{
 "cells": [
  {
   "cell_type": "code",
   "execution_count": 2,
   "metadata": {},
   "outputs": [
    {
     "data": {
      "text/plain": [
       "<module 'fmask' from '/Users/thomashebrard/thesis/code/fmask.py'>"
      ]
     },
     "execution_count": 2,
     "metadata": {},
     "output_type": "execute_result"
    }
   ],
   "source": [
    "import importlib\n",
    "import vrt\n",
    "from osgeo import gdal\n",
    "import pprint\n",
    "import json\n",
    "import fmask\n",
    "import numpy as np\n",
    "import matplotlib.pyplot as plt\n",
    "from variables import DATA_PATH\n",
    "import itertools\n",
    "from collections import Counter\n",
    "importlib.reload(vrt)\n",
    "importlib.reload(fmask)\n",
    "\n",
    "# 0 => clear land pixel\n",
    "# 1 => clear water pixel\n",
    "# 2 => cloud shadow\n",
    "# 3 => snow\n",
    "# 4 => cloud"
   ]
  },
  {
   "cell_type": "code",
   "execution_count": 3,
   "metadata": {},
   "outputs": [],
   "source": [
    "import os\n",
    "\n",
    "directory = f\"{DATA_PATH}/s2/fmask/\"  # replace with the path to your directory\n",
    "fmask_paths = [\n",
    "    f\"{DATA_PATH}/s2/fmask/\" +\n",
    "    folder_name +\n",
    "    \"/\" +\n",
    "    folder_name +\n",
    "    \"_fmask.tif\"\n",
    "    for folder_name in os.listdir(directory)\n",
    "]"
   ]
  },
  {
   "cell_type": "code",
   "execution_count": 4,
   "metadata": {},
   "outputs": [],
   "source": [
    "MAP_CLOUD = {\n",
    "    0: \"clear_land\",\n",
    "    1: \"cloud_water\", \n",
    "    2: \"cloud_shadow\",\n",
    "    3: \"snow\",\n",
    "    4: \"cloud\",\n",
    "    255: \"no_observation\"\n",
    "}"
   ]
  },
  {
   "cell_type": "code",
   "execution_count": null,
   "metadata": {},
   "outputs": [],
   "source": [
    "json_data = {}\n",
    "\n",
    "for fmask_path in fmask_paths:\n",
    "    vrt_path = \"vrt/\" + fmask_path.split(\"/\")[-1].split(\".\")[0] + \".vrt\"\n",
    "    try:\n",
    "        vrt.tif_to_vrt(fmask_path, vrt_path)\n",
    "        gdal_data = gdal.Open(vrt_path)\n",
    "        data = gdal_data.ReadAsArray()\n",
    "    except:\n",
    "        print(\"File not exist here: \", fmask_path)\n",
    "        vrt.tif_to_vrt(\"/\".join(fmask_path.split(\"/\")[:-1]) + \"/fmask.tif\", vrt_path)\n",
    "        gdal_data = gdal.Open(vrt_path)\n",
    "        data = gdal_data.ReadAsArray()\n",
    "    \n",
    "    shape = data.size\n",
    "    \n",
    "    count = dict(Counter(itertools.chain(*data)))\n",
    "    map = {MAP_CLOUD[k]: round((v/shape)*100, 2) for k, v in count.items()}\n",
    "    \n",
    "    json_data[fmask_path.split(\"/\")[-1]] = dict(sorted(map.items(), key=lambda x: -x[1]))\n",
    "\n",
    "with open(\"fmask_stats.json\", \"w\") as f:\n",
    "    json.dump(json_data, f)"
   ]
  }
 ],
 "metadata": {
  "kernelspec": {
   "display_name": "venv",
   "language": "python",
   "name": "python3"
  },
  "language_info": {
   "codemirror_mode": {
    "name": "ipython",
    "version": 3
   },
   "file_extension": ".py",
   "mimetype": "text/x-python",
   "name": "python",
   "nbconvert_exporter": "python",
   "pygments_lexer": "ipython3",
   "version": "3.10.10"
  },
  "orig_nbformat": 4,
  "vscode": {
   "interpreter": {
    "hash": "dea95fc5b86fbf6522516b8c46d4a24409d5c3ef837fd6ef0163978ea2b0251f"
   }
  }
 },
 "nbformat": 4,
 "nbformat_minor": 2
}
