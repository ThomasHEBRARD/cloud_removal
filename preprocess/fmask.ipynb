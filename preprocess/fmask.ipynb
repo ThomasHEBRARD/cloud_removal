{
 "cells": [
  {
   "cell_type": "code",
   "execution_count": 1,
   "metadata": {},
   "outputs": [],
   "source": [
    "import importlib\n",
    "from osgeo import gdal\n",
    "import pprint\n",
    "import json\n",
    "import numpy as np\n",
    "import matplotlib.pyplot as plt\n",
    "import itertools\n",
    "from collections import Counter\n",
    "\n",
    "# 0 => clear land pixel\n",
    "# 1 => clear water pixel\n",
    "# 2 => cloud shadow\n",
    "# 3 => snow\n",
    "# 4 => cloud"
   ]
  },
  {
   "cell_type": "code",
   "execution_count": 2,
   "metadata": {},
   "outputs": [],
   "source": [
    "import os\n",
    "\n",
    "directory = f\"/Volumes/X/Data/fusion-s1-s2/s2/fmask/\"  # replace with the path to your directory\n",
    "fmask_paths = [\n",
    "    f\"/Volumes/X/Data/fusion-s1-s2/s2/fmask/\" +\n",
    "    folder_name +\n",
    "    \"/\" +\n",
    "    folder_name +\n",
    "    \"_fmask.tif\"\n",
    "    for folder_name in os.listdir(directory)\n",
    "]"
   ]
  },
  {
   "cell_type": "code",
   "execution_count": 3,
   "metadata": {},
   "outputs": [],
   "source": [
    "MAP_CLOUD = {\n",
    "    0: \"clear_land\",\n",
    "    1: \"cloud_water\", \n",
    "    2: \"cloud_shadow\",\n",
    "    3: \"snow\",\n",
    "    4: \"cloud\",\n",
    "    255: \"no_observation\"\n",
    "}"
   ]
  },
  {
   "cell_type": "code",
   "execution_count": 58,
   "metadata": {},
   "outputs": [],
   "source": [
    "def fmask_double(input_path, output_path):\n",
    "    if os.path.isfile(input_path):\n",
    "        src_ds = gdal.Open(input_path)\n",
    "    else:\n",
    "        src_ds = gdal.Open(\"/\".join(input_path.split(\"/\")[:-1])+\"/fmask.tif\")\n",
    "\n",
    "    # Calculate the new dimensions\n",
    "    new_width = src_ds.RasterXSize * 2\n",
    "    new_height = src_ds.RasterYSize * 2\n",
    "\n",
    "    # Set up the warp options\n",
    "    warp_options = gdal.WarpOptions(format=\"VRT\",\n",
    "                                    width=new_width,\n",
    "                                    height=new_height,\n",
    "                                    resampleAlg=gdal.GRA_Bilinear)\n",
    "    \n",
    "    gdal.Warp(destNameOrDestDS=output_path, srcDSOrSrcDSTab=src_ds, options=warp_options)"
   ]
  },
  {
   "cell_type": "code",
   "execution_count": null,
   "metadata": {},
   "outputs": [],
   "source": [
    "for fmask_path in fmask_paths:\n",
    "    file_name = \"_\".join(fmask_path.split(\"/\")[-1].split(\"_\")[:-1])\n",
    "    output_path = f\"data/fmask_cropped/{file_name}/{file_name}.vrt\"\n",
    "    if not os.path.exists(f\"data/fmask_cropped/{file_name}/\"):\n",
    "                os.makedirs(f\"data/fmask_cropped/{file_name}/\")\n",
    "    fmask_double(fmask_path, output_path)"
   ]
  },
  {
   "cell_type": "code",
   "execution_count": 60,
   "metadata": {},
   "outputs": [],
   "source": [
    "CROP_SIZE = 256"
   ]
  },
  {
   "cell_type": "code",
   "execution_count": 61,
   "metadata": {},
   "outputs": [
    {
     "name": "stdout",
     "output_type": "stream",
     "text": [
      "S2_32VNH_20200825\n",
      "Processing data/fmask_cropped/S2_32VNH_20200825/S2_32VNH_20200825.vrt\n",
      "S2_32VNH_20210429\n",
      "Processing data/fmask_cropped/S2_32VNH_20210429/S2_32VNH_20210429.vrt\n",
      "S2_32VNH_20190903\n",
      "Processing data/fmask_cropped/S2_32VNH_20190903/S2_32VNH_20190903.vrt\n",
      "S2_32VNH_20200214\n",
      "Processing data/fmask_cropped/S2_32VNH_20200214/S2_32VNH_20200214.vrt\n",
      "S2_32VNH_20191214\n",
      "Processing data/fmask_cropped/S2_32VNH_20191214/S2_32VNH_20191214.vrt\n",
      "S2_32VNH_20210624\n",
      "Processing data/fmask_cropped/S2_32VNH_20210624/S2_32VNH_20210624.vrt\n",
      "S2_32VNH_20200822\n",
      "Processing data/fmask_cropped/S2_32VNH_20200822/S2_32VNH_20200822.vrt\n",
      "S2_32VNH_20210623\n",
      "Processing data/fmask_cropped/S2_32VNH_20210623/S2_32VNH_20210623.vrt\n",
      "S2_32VNH_20191028\n",
      "Processing data/fmask_cropped/S2_32VNH_20191028/S2_32VNH_20191028.vrt\n",
      "S2_32VNH_20190131\n",
      "Processing data/fmask_cropped/S2_32VNH_20190131/S2_32VNH_20190131.vrt\n"
     ]
    }
   ],
   "source": [
    "for fmask in os.listdir(\"data/fmask_cropped/\")[:10]:\n",
    "    print(fmask)\n",
    "    image_path = f\"data/fmask_cropped/{fmask}/{fmask}.vrt\"\n",
    "    image = gdal.Open(image_path)\n",
    "    print(f\"Processing {image_path}\")\n",
    "\n",
    "    width = image.RasterXSize\n",
    "    height = image.RasterYSize\n",
    "\n",
    "    gt = image.GetGeoTransform()\n",
    "\n",
    "    min_x = int(gt[0])\n",
    "    min_y = int(gt[3]) - CROP_SIZE * 10\n",
    "    max_x = int(gt[0] + width*gt[1])\n",
    "    max_y = int(gt[3] + height*gt[5]) - CROP_SIZE * 10\n",
    "\n",
    "    x_length = range(min_x, max_x + CROP_SIZE + 1, CROP_SIZE*10)\n",
    "    y_length = range(min_y, max_y - CROP_SIZE + 1, -CROP_SIZE*10)\n",
    "\n",
    "    ALL_XY_COORDINATES = [(x, y) for y in y_length for x in x_length]\n",
    "\n",
    "    if not os.path.isdir(f\"data/fmask_cropped/{fmask}/cropped/\"):\n",
    "        os.makedirs(f\"data/fmask_cropped/{fmask}/cropped/\")\n",
    "    for idx, (x, y) in enumerate(ALL_XY_COORDINATES):\n",
    "        vrt_options = gdal.BuildVRTOptions(resolution=\"highest\", outputBounds=(x, y, x + CROP_SIZE * 10, y + CROP_SIZE * 10))\n",
    "        gdal.BuildVRT(f\"data/fmask_cropped/{fmask}/cropped/{fmask}_{idx}_{x}_{y}_{CROP_SIZE}.vrt\", [image_path], options=vrt_options)"
   ]
  },
  {
   "cell_type": "code",
   "execution_count": 62,
   "metadata": {},
   "outputs": [
    {
     "name": "stdout",
     "output_type": "stream",
     "text": [
      "Processing S2_32VNH_20200825\n",
      "Processing S2_32VNH_20210429\n",
      "Processing S2_32VNH_20190903\n",
      "Processing S2_32VNH_20200214\n",
      "Processing S2_32VNH_20191214\n",
      "Processing S2_32VNH_20210624\n",
      "Processing S2_32VNH_20200822\n",
      "Processing S2_32VNH_20210623\n",
      "Processing S2_32VNH_20191028\n",
      "Processing S2_32VNH_20190131\n"
     ]
    }
   ],
   "source": [
    "json_data = {}\n",
    "\n",
    "FMASK_DIRECTORY = f\"data/fmask_cropped/\"\n",
    "\n",
    "for fmask_path in os.listdir(FMASK_DIRECTORY)[:10]:\n",
    "    print(f\"Processing {fmask_path}\")\n",
    "    path_to_crops = f\"{FMASK_DIRECTORY}{fmask_path}/cropped/\"\n",
    "    for im_path in os.listdir(path_to_crops):\n",
    "        x, y = int(im_path.split(\"_\")[-3]), int(im_path.split(\"_\")[-2])\n",
    "        gdal_data = gdal.Open(f\"{FMASK_DIRECTORY}{fmask_path}/cropped/{im_path}\")\n",
    "        data = gdal_data.ReadAsArray()\n",
    "        \n",
    "        shape = data.size\n",
    "        \n",
    "        count = dict(Counter(itertools.chain(*data)))\n",
    "        map = {MAP_CLOUD[k]: round((v/shape)*100, 2) for k, v in count.items()}\n",
    "        \n",
    "        json_data[im_path.split(\"/\")[-1]] = dict(sorted(map.items(), key=lambda x: -x[1]))\n",
    "\n",
    "with open(\"data/fmask_cropped_stats.json\", \"w\") as f:\n",
    "    json.dump(json_data, f)"
   ]
  },
  {
   "cell_type": "code",
   "execution_count": null,
   "metadata": {},
   "outputs": [],
   "source": []
  }
 ],
 "metadata": {
  "kernelspec": {
   "display_name": "venv",
   "language": "python",
   "name": "python3"
  },
  "language_info": {
   "codemirror_mode": {
    "name": "ipython",
    "version": 3
   },
   "file_extension": ".py",
   "mimetype": "text/x-python",
   "name": "python",
   "nbconvert_exporter": "python",
   "pygments_lexer": "ipython3",
   "version": "3.10.10"
  },
  "orig_nbformat": 4,
  "vscode": {
   "interpreter": {
    "hash": "dea95fc5b86fbf6522516b8c46d4a24409d5c3ef837fd6ef0163978ea2b0251f"
   }
  }
 },
 "nbformat": 4,
 "nbformat_minor": 2
}
