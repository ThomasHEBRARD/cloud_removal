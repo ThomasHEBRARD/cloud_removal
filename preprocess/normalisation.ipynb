{
 "cells": [
  {
   "cell_type": "code",
   "execution_count": 15,
   "metadata": {},
   "outputs": [],
   "source": [
    "import json\n",
    "from osgeo import gdal\n",
    "import numpy as np\n",
    "import os\n",
    "from datetime import datetime\n",
    "import random\n",
    "from matplotlib import pyplot as plt"
   ]
  },
  {
   "cell_type": "code",
   "execution_count": 16,
   "metadata": {},
   "outputs": [
    {
     "name": "stderr",
     "output_type": "stream",
     "text": [
      "/var/folders/mm/pp6z4g_57wd5hg1w90myww1r0000gn/T/ipykernel_31487/1364984146.py:4: DeprecationWarning: Sampling from a set deprecated\n",
      "since Python 3.9 and will be removed in a subsequent version.\n",
      "  indexes = random.sample(testst.keys(), 1000)\n"
     ]
    }
   ],
   "source": [
    "with open(\"data/dataset_train.json\", \"r\") as f:\n",
    "    testst = json.load(f)\n",
    "\n",
    "indexes = random.sample(testst.keys(), 1000)"
   ]
  },
  {
   "cell_type": "code",
   "execution_count": 17,
   "metadata": {},
   "outputs": [],
   "source": [
    "B02_min, B02_max = [], []\n",
    "B03_min, B03_max = [], []\n",
    "B04_min, B04_max = [], [] \n",
    "B05_min, B05_max = [], []\n",
    "B06_min, B06_max = [], []\n",
    "B07_min, B07_max = [], []\n",
    "B08_min, B08_max = [], []"
   ]
  },
  {
   "cell_type": "code",
   "execution_count": 18,
   "metadata": {},
   "outputs": [],
   "source": [
    "def value_ranges_repartition(pixel_array, range_size=1000, lower_percentile=5, upper_percentile=95):\n",
    "    min_value, max_value = np.min(pixel_array), np.max(pixel_array)\n",
    "    bins = np.arange(min_value, max_value + range_size, range_size)\n",
    "    \n",
    "    hist, _ = np.histogram(pixel_array, bins=bins)\n",
    "    repartition = dict(zip(bins[:-1], hist))\n",
    "    \n",
    "    total_pixels = pixel_array.size\n",
    "    percentages = {k: (v / total_pixels) * 100 for k, v in repartition.items()}\n",
    "    \n",
    "    lower_threshold = np.percentile(pixel_array, lower_percentile)\n",
    "    upper_threshold = np.percentile(pixel_array, upper_percentile)\n",
    "    \n",
    "    # min_population_range = min(repartition, key=repartition.get)\n",
    "    # max_population_range = max(repartition, key=repartition.get)\n",
    "    \n",
    "    # print(\"Histogram:\")\n",
    "    # for k, v in percentages.items():\n",
    "    #     print(f\"Range: {k}-{k + range_size - 1}, Percentage: {v:.2f}%\")\n",
    "    \n",
    "    # print(\"5% threshold:\", lower_threshold)\n",
    "    # print(\"95% threshold:\", upper_threshold)\n",
    "    \n",
    "    return lower_threshold, upper_threshold\n"
   ]
  },
  {
   "cell_type": "code",
   "execution_count": 21,
   "metadata": {},
   "outputs": [],
   "source": [
    "for i in indexes[:20]:\n",
    "    data = testst[str(i)]\n",
    "    B02_l, B02_u = value_ranges_repartition(gdal.Open(data[\"s2_cloudy_B02\"]).ReadAsArray())\n",
    "    B02_min.append(B02_l)\n",
    "    B02_max.append(B02_u)\n",
    "\n",
    "    B03_l, B03_u = value_ranges_repartition(gdal.Open(data[\"s2_cloudy_B03\"]).ReadAsArray())\n",
    "    B03_min.append(B03_l)\n",
    "    B03_max.append(B03_u)\n",
    "\n",
    "    B04_l, B04_u = value_ranges_repartition(gdal.Open(data[\"s2_cloudy_B04\"]).ReadAsArray())\n",
    "    B04_min.append(B04_l)\n",
    "    B04_max.append(B04_u)\n",
    "\n",
    "    B05_l, B05_u = value_ranges_repartition(gdal.Open(data[\"s2_cloudy_B05\"]).ReadAsArray())\n",
    "    B05_min.append(B05_l)\n",
    "    B05_max.append(B05_u)\n",
    "\n",
    "    B06_l, B06_u = value_ranges_repartition(gdal.Open(data[\"s2_cloudy_B06\"]).ReadAsArray())\n",
    "    B06_min.append(B06_l)\n",
    "    B06_max.append(B06_u)\n",
    "\n",
    "    B07_l, B07_u = value_ranges_repartition(gdal.Open(data[\"s2_cloudy_B07\"]).ReadAsArray())\n",
    "    B07_min.append(B07_l)\n",
    "    B07_max.append(B07_u)\n",
    "    \n",
    "    # B08_l, B08_u = value_ranges_repartition(gdal.Open(data[\"s2_cloudy_B08\"]).ReadAsArray())\n",
    "    # B08_min.append(B08_l)\n",
    "    # B08_max.append(B08_u)\n",
    "\n"
   ]
  },
  {
   "cell_type": "code",
   "execution_count": 22,
   "metadata": {},
   "outputs": [
    {
     "name": "stdout",
     "output_type": "stream",
     "text": [
      "B02 361.06756756756755 5028.4324324324325\n",
      "B03 435.5945945945946 4868.648648648648\n",
      "B04 310.4054054054054 4789.0\n",
      "B05 572.9444444444445 5336.805555555556\n",
      "B06 1148.7222222222222 5941.611111111111\n",
      "B07 1309.1944444444443 6208.305555555556\n"
     ]
    }
   ],
   "source": [
    "print(\"B02\", np.mean(B02_min), np.mean(B02_max))\n",
    "print(\"B03\", np.mean(B03_min), np.mean(B03_max))\n",
    "print(\"B04\", np.mean(B04_min), np.mean(B04_max))\n",
    "print(\"B05\", np.mean(B05_min), np.mean(B05_max))\n",
    "print(\"B06\", np.mean(B06_min), np.mean(B06_max))\n",
    "print(\"B07\", np.mean(B07_min), np.mean(B07_max))"
   ]
  },
  {
   "cell_type": "code",
   "execution_count": 75,
   "metadata": {},
   "outputs": [],
   "source": [
    "B02 = gdal.Open(testst[str(1733)][\"s2_cloudy_B02\"]).ReadAsArray()\n",
    "B03 = gdal.Open(testst[str(1733)][\"s2_cloudy_B03\"]).ReadAsArray()\n",
    "B04 = gdal.Open(testst[str(1733)][\"s2_cloudy_B04\"]).ReadAsArray()"
   ]
  },
  {
   "cell_type": "code",
   "execution_count": 98,
   "metadata": {},
   "outputs": [],
   "source": [
    "im = np.stack((B04, B03, B02), axis=-1)\n",
    "clipped_B02 = np.clip(B02, 200, 4580)\n",
    "clipped_B03 = np.clip(B03, 200, 4580)\n",
    "clipped_B04 = np.clip(B04, 200, 4580)"
   ]
  },
  {
   "cell_type": "code",
   "execution_count": 99,
   "metadata": {},
   "outputs": [],
   "source": [
    "cim = np.array(np.stack((clipped_B04, clipped_B03, clipped_B02), axis=-1))"
   ]
  }
 ],
 "metadata": {
  "kernelspec": {
   "display_name": "venv",
   "language": "python",
   "name": "python3"
  },
  "language_info": {
   "codemirror_mode": {
    "name": "ipython",
    "version": 3
   },
   "file_extension": ".py",
   "mimetype": "text/x-python",
   "name": "python",
   "nbconvert_exporter": "python",
   "pygments_lexer": "ipython3",
   "version": "3.10.10"
  },
  "orig_nbformat": 4
 },
 "nbformat": 4,
 "nbformat_minor": 2
}
