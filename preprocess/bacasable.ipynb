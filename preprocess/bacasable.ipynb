{
 "cells": [
  {
   "cell_type": "code",
   "execution_count": 4,
   "metadata": {},
   "outputs": [],
   "source": [
    "import numpy as np\n",
    "import matplotlib.pyplot as plt\n",
    "import matplotlib.gridspec as gridspec"
   ]
  },
  {
   "cell_type": "code",
   "execution_count": 5,
   "metadata": {},
   "outputs": [],
   "source": [
    "s1_hv = np.random.rand(256,256)\n",
    "s1_vv = np.random.rand(256,256)\n",
    "\n",
    "BANDS = [\"B02\", \"B03\", \"B04\", \"B05\"]\n",
    "\n",
    "s2_cloudy = {band: np.random.rand(256,256) for band in BANDS}\n",
    "s2_cloudfree = {band: np.random.rand(256,256) for band in BANDS}"
   ]
  },
  {
   "cell_type": "code",
   "execution_count": 6,
   "metadata": {},
   "outputs": [],
   "source": [
    "result = np.stack((s1_hv, s1_vv, *s2_cloudy.values()), axis=-1)"
   ]
  },
  {
   "cell_type": "code",
   "execution_count": 81,
   "metadata": {},
   "outputs": [
    {
     "name": "stdout",
     "output_type": "stream",
     "text": [
      "2\n"
     ]
    }
   ],
   "source": [
    "def create_sample_image():\n",
    "    return np.random.rand(256, 256)\n",
    "\n",
    "num_images_block1 = 5\n",
    "images_block1 = [create_sample_image() for _ in range(num_images_block1)]\n",
    "images_block2 = [create_sample_image() for _ in range(3)]\n",
    "# Set the desired figsize (width, height) in inches\n",
    "width, height = 16, 8\n",
    "\n",
    "# Calculate the number of rows based on the number of images\n",
    "num_images = len(images_block1)\n",
    "num_rows = (num_images + 3) // 4\n",
    "\n",
    "# Create the first figure with the specified figsize\n",
    "fig1, axes1 = plt.subplots(num_rows, 4, figsize=(width, height))\n",
    "\n",
    "# Display the images with titles\n",
    "for i in range(num_rows):\n",
    "    for j in range(4):\n",
    "        idx = i * 4 + j\n",
    "        if idx < num_images:\n",
    "            ax = axes1[i, j] if num_rows > 1 else axes1[j]\n",
    "            ax.imshow(images_block1[idx], cmap=\"gray\")\n",
    "            ax.set_title(f\"Image {idx+1}\")  # Add title above the image\n",
    "            ax.axis(\"off\")\n",
    "        else:\n",
    "            (axes1[i, j] if num_rows > 1 else axes1[j]).axis(\"off\")\n",
    "\n",
    "# Adjust the layout and save the first plot\n",
    "plt.tight_layout()\n",
    "plt.savefig('plot1.png')\n",
    "plt.close(fig1)  # Close the figure to free up memory\n",
    "\n",
    "\n",
    "\n",
    "\n",
    "\n",
    "# Create the second figure with the specified figsize\n",
    "fig2, axes2 = plt.subplots(1, 3, figsize=(width, height))\n",
    "\n",
    "# Display the last row with 3 images centered and with titles\n",
    "axes2[0].imshow(images_block2[0])\n",
    "axes2[0].set_title(f\"Image {j + 12}\")  # Add title above the image\n",
    "axes2[0].axis(\"off\")\n",
    "\n",
    "axes2[1].imshow(images_block2[1])\n",
    "axes2[1].set_title(f\"Image {j + 12}\")  # Add title above the image\n",
    "axes2[1].axis(\"off\")\n",
    "\n",
    "axes2[2].imshow(images_block2[2])\n",
    "axes2[2].set_title(f\"Image {j + 12}\")  # Add title above the image\n",
    "axes2[2].axis(\"off\")\n",
    "\n",
    "# Adjust the layout and save the second plot\n",
    "plt.tight_layout()\n",
    "plt.savefig('plot2.png')\n",
    "plt.close(fig2)"
   ]
  },
  {
   "cell_type": "code",
   "execution_count": null,
   "metadata": {},
   "outputs": [],
   "source": []
  }
 ],
 "metadata": {
  "kernelspec": {
   "display_name": "venv",
   "language": "python",
   "name": "python3"
  },
  "language_info": {
   "codemirror_mode": {
    "name": "ipython",
    "version": 3
   },
   "file_extension": ".py",
   "mimetype": "text/x-python",
   "name": "python",
   "nbconvert_exporter": "python",
   "pygments_lexer": "ipython3",
   "version": "3.10.10"
  },
  "orig_nbformat": 4
 },
 "nbformat": 4,
 "nbformat_minor": 2
}
