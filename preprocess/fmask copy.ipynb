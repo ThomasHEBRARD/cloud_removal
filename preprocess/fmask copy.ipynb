{
 "cells": [
  {
   "cell_type": "code",
   "execution_count": 2,
   "metadata": {},
   "outputs": [],
   "source": [
    "import importlib\n",
    "from osgeo import gdal\n",
    "import pprint\n",
    "import json\n",
    "import numpy as np\n",
    "import matplotlib.pyplot as plt\n",
    "import itertools\n",
    "from collections import Counter\n",
    "\n",
    "# 0 => clear land pixel\n",
    "# 1 => clear water pixel\n",
    "# 2 => cloud shadow\n",
    "# 3 => snow\n",
    "# 4 => cloud"
   ]
  },
  {
   "cell_type": "code",
   "execution_count": 3,
   "metadata": {},
   "outputs": [],
   "source": [
    "import os\n",
    "\n",
    "directory = f\"/Volumes/X/Data/fusion-s1-s2/s2/fmask/\"  # replace with the path to your directory\n",
    "fmask_paths = [\n",
    "    f\"/Volumes/X/Data/fusion-s1-s2/s2/fmask/\" +\n",
    "    folder_name +\n",
    "    \"/\" +\n",
    "    folder_name +\n",
    "    \"_fmask.tif\"\n",
    "    for folder_name in os.listdir(directory)\n",
    "]"
   ]
  },
  {
   "cell_type": "code",
   "execution_count": 4,
   "metadata": {},
   "outputs": [],
   "source": [
    "MAP_CLOUD = {\n",
    "    0: \"clear_land\",\n",
    "    1: \"cloud_water\", \n",
    "    2: \"cloud_shadow\",\n",
    "    3: \"snow\",\n",
    "    4: \"cloud\",\n",
    "    255: \"no_observation\"\n",
    "}"
   ]
  },
  {
   "cell_type": "code",
   "execution_count": 18,
   "metadata": {},
   "outputs": [],
   "source": [
    "fmim= gdal.Open(\"/Volumes/X/Data/fusion-s1-s2/s2/fmask/S2_32VNH_20201120/S2_32VNH_20201120_fmask.tif\")\n",
    "im = gdal.Open(\"/Volumes/X/Data/fusion-s1-s2/s2/sre-10m/S2_32VNH_20210822/S2_32VNH_20210822_B02.tif\")"
   ]
  },
  {
   "cell_type": "code",
   "execution_count": 40,
   "metadata": {},
   "outputs": [
    {
     "name": "stdout",
     "output_type": "stream",
     "text": [
      "499980.0\n",
      "10980 10.0 109800.0\n",
      "10980 6300000.0 -109800.0\n",
      "6300000.0\n"
     ]
    }
   ],
   "source": [
    "width = im.RasterXSize\n",
    "height = im.RasterYSize\n",
    "\n",
    "gt = im.GetGeoTransform()\n",
    "\n",
    "minx = gt[0]\n",
    "miny = gt[3]\n",
    "maxx = gt[0] + width*gt[1] + height*gt[2]\n",
    "maxy = gt[3] \n",
    "\n",
    "print(gt[0])  \n",
    "print(width, gt[1], gt[0] + width*gt[1] - minx)\n",
    "print(height, gt[3], gt[3] + height*gt[5] - miny)\n",
    "print(gt[3])"
   ]
  },
  {
   "cell_type": "code",
   "execution_count": 5,
   "metadata": {},
   "outputs": [
    {
     "name": "stdout",
     "output_type": "stream",
     "text": [
      "(5490, 5490)\n",
      "(5490, 5490)\n",
      "(5490, 5490)\n",
      "(5490, 5490)\n"
     ]
    },
    {
     "ename": "KeyboardInterrupt",
     "evalue": "",
     "output_type": "error",
     "traceback": [
      "\u001b[0;31m---------------------------------------------------------------------------\u001b[0m",
      "\u001b[0;31mKeyboardInterrupt\u001b[0m                         Traceback (most recent call last)",
      "Cell \u001b[0;32mIn[5], line 16\u001b[0m\n\u001b[1;32m     12\u001b[0m     data \u001b[39m=\u001b[39m gdal_data\u001b[39m.\u001b[39mReadAsArray()\n\u001b[1;32m     14\u001b[0m shape \u001b[39m=\u001b[39m data\u001b[39m.\u001b[39msize\n\u001b[0;32m---> 16\u001b[0m count \u001b[39m=\u001b[39m \u001b[39mdict\u001b[39m(Counter(itertools\u001b[39m.\u001b[39;49mchain(\u001b[39m*\u001b[39;49mdata)))\n\u001b[1;32m     17\u001b[0m \u001b[39mmap\u001b[39m \u001b[39m=\u001b[39m {MAP_CLOUD[k]: \u001b[39mround\u001b[39m((v\u001b[39m/\u001b[39mshape)\u001b[39m*\u001b[39m\u001b[39m100\u001b[39m, \u001b[39m2\u001b[39m) \u001b[39mfor\u001b[39;00m k, v \u001b[39min\u001b[39;00m count\u001b[39m.\u001b[39mitems()}\n\u001b[1;32m     19\u001b[0m json_data[fmask_path\u001b[39m.\u001b[39msplit(\u001b[39m\"\u001b[39m\u001b[39m/\u001b[39m\u001b[39m\"\u001b[39m)[\u001b[39m-\u001b[39m\u001b[39m1\u001b[39m]] \u001b[39m=\u001b[39m \u001b[39mdict\u001b[39m(\u001b[39msorted\u001b[39m(\u001b[39mmap\u001b[39m\u001b[39m.\u001b[39mitems(), key\u001b[39m=\u001b[39m\u001b[39mlambda\u001b[39;00m x: \u001b[39m-\u001b[39mx[\u001b[39m1\u001b[39m]))\n",
      "File \u001b[0;32m/opt/homebrew/Cellar/python@3.10/3.10.10/Frameworks/Python.framework/Versions/3.10/lib/python3.10/collections/__init__.py:577\u001b[0m, in \u001b[0;36mCounter.__init__\u001b[0;34m(self, iterable, **kwds)\u001b[0m\n\u001b[1;32m    566\u001b[0m \u001b[39m\u001b[39m\u001b[39m'''Create a new, empty Counter object.  And if given, count elements\u001b[39;00m\n\u001b[1;32m    567\u001b[0m \u001b[39mfrom an input iterable.  Or, initialize the count from another mapping\u001b[39;00m\n\u001b[1;32m    568\u001b[0m \u001b[39mof elements to their counts.\u001b[39;00m\n\u001b[0;32m   (...)\u001b[0m\n\u001b[1;32m    574\u001b[0m \n\u001b[1;32m    575\u001b[0m \u001b[39m'''\u001b[39;00m\n\u001b[1;32m    576\u001b[0m \u001b[39msuper\u001b[39m()\u001b[39m.\u001b[39m\u001b[39m__init__\u001b[39m()\n\u001b[0;32m--> 577\u001b[0m \u001b[39mself\u001b[39;49m\u001b[39m.\u001b[39;49mupdate(iterable, \u001b[39m*\u001b[39;49m\u001b[39m*\u001b[39;49mkwds)\n",
      "File \u001b[0;32m/opt/homebrew/Cellar/python@3.10/3.10.10/Frameworks/Python.framework/Versions/3.10/lib/python3.10/collections/__init__.py:670\u001b[0m, in \u001b[0;36mCounter.update\u001b[0;34m(self, iterable, **kwds)\u001b[0m\n\u001b[1;32m    668\u001b[0m             \u001b[39msuper\u001b[39m()\u001b[39m.\u001b[39mupdate(iterable)\n\u001b[1;32m    669\u001b[0m     \u001b[39melse\u001b[39;00m:\n\u001b[0;32m--> 670\u001b[0m         _count_elements(\u001b[39mself\u001b[39;49m, iterable)\n\u001b[1;32m    671\u001b[0m \u001b[39mif\u001b[39;00m kwds:\n\u001b[1;32m    672\u001b[0m     \u001b[39mself\u001b[39m\u001b[39m.\u001b[39mupdate(kwds)\n",
      "\u001b[0;31mKeyboardInterrupt\u001b[0m: "
     ]
    }
   ],
   "source": [
    "json_data = {}\n",
    "\n",
    "for fmask_path in fmask_paths:\n",
    "    try:\n",
    "        gdal_data = gdal.Open(fmask_path)\n",
    "        data = gdal_data.ReadAsArray()\n",
    "        print(data.shape)\n",
    "    except:\n",
    "        print(\"File not exist here: \", fmask_path)\n",
    "        vrt.tif_to_vrt(\"/\".join(fmask_path.split(\"/\")[:-1]) + \"/fmask.tif\", vrt_path)\n",
    "        gdal_data = gdal.Open(vrt_path)\n",
    "        data = gdal_data.ReadAsArray()\n",
    "    \n",
    "    shape = data.size\n",
    "    \n",
    "    count = dict(Counter(itertools.chain(*data)))\n",
    "    map = {MAP_CLOUD[k]: round((vshape)*100, 2) for k, v in count.items()}\n",
    "    \n",
    "    json_data[fmask_path.split(\"/\")[-1]] = dict(sorted(map.items(), key=lambda x: -x[1]))\n",
    "\n",
    "with open(\"fmask_stats.json\", \"w\") as f:\n",
    "    json.dump(json_data, f)"
   ]
  },
  {
   "cell_type": "code",
   "execution_count": null,
   "metadata": {},
   "outputs": [],
   "source": []
  }
 ],
 "metadata": {
  "kernelspec": {
   "display_name": "venv",
   "language": "python",
   "name": "python3"
  },
  "language_info": {
   "codemirror_mode": {
    "name": "ipython",
    "version": 3
   },
   "file_extension": ".py",
   "mimetype": "text/x-python",
   "name": "python",
   "nbconvert_exporter": "python",
   "pygments_lexer": "ipython3",
   "version": "3.10.10"
  },
  "orig_nbformat": 4,
  "vscode": {
   "interpreter": {
    "hash": "dea95fc5b86fbf6522516b8c46d4a24409d5c3ef837fd6ef0163978ea2b0251f"
   }
  }
 },
 "nbformat": 4,
 "nbformat_minor": 2
}
