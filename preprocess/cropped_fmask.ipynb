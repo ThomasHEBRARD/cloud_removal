{
 "cells": [
  {
   "attachments": {},
   "cell_type": "markdown",
   "metadata": {},
   "source": [
    "# IMPORTS"
   ]
  },
  {
   "cell_type": "code",
   "execution_count": 1,
   "metadata": {},
   "outputs": [],
   "source": [
    "import os\n",
    "import json\n",
    "import itertools\n",
    "\n",
    "from osgeo import gdal\n",
    "from datetime import datetime, timedelta\n",
    "from collections import Counter\n",
    "\n",
    "# 0 => clear land pixel\n",
    "# 1 => clear water pixel\n",
    "# 2 => cloud shadow\n",
    "# 3 => snow\n",
    "# 4 => cloud"
   ]
  },
  {
   "cell_type": "code",
   "execution_count": 2,
   "metadata": {},
   "outputs": [],
   "source": [
    "directory = f\"/Volumes/X/Data/fusion-s1-s2/s2/fmask/\"  # replace with the path to your directory\n",
    "fmask_paths = [\n",
    "    f\"/Volumes/X/Data/fusion-s1-s2/s2/fmask/\" +\n",
    "    folder_name +\n",
    "    \"/\" +\n",
    "    folder_name +\n",
    "    \"_fmask.tif\"\n",
    "    for folder_name in os.listdir(directory)\n",
    "]"
   ]
  },
  {
   "cell_type": "code",
   "execution_count": 3,
   "metadata": {},
   "outputs": [],
   "source": [
    "MAP_CLOUD = {\n",
    "    0: \"clear_land\",\n",
    "    1: \"cloud_water\", \n",
    "    2: \"cloud_shadow\",\n",
    "    3: \"snow\",\n",
    "    4: \"cloud\",\n",
    "    255: \"no_observation\"\n",
    "}"
   ]
  },
  {
   "cell_type": "code",
   "execution_count": 4,
   "metadata": {},
   "outputs": [],
   "source": [
    "def fmask_double(input_path, output_path):\n",
    "    if os.path.isfile(input_path):\n",
    "        src_ds = gdal.Open(input_path)\n",
    "    else:\n",
    "        src_ds = gdal.Open(\"/\".join(input_path.split(\"/\")[:-1])+\"/fmask.tif\")\n",
    "\n",
    "    # Calculate the new dimensions\n",
    "    new_width = src_ds.RasterXSize * 2\n",
    "    new_height = src_ds.RasterYSize * 2\n",
    "\n",
    "    # Set up the warp options\n",
    "    warp_options = gdal.WarpOptions(format=\"VRT\",\n",
    "                                    width=new_width,\n",
    "                                    height=new_height,\n",
    "                                    resampleAlg=gdal.GRA_Bilinear)\n",
    "    \n",
    "    gdal.Warp(destNameOrDestDS=output_path, srcDSOrSrcDSTab=src_ds, options=warp_options)"
   ]
  },
  {
   "cell_type": "code",
   "execution_count": null,
   "metadata": {},
   "outputs": [],
   "source": [
    "for fmask_path in fmask_paths:\n",
    "    file_name = \"_\".join(fmask_path.split(\"/\")[-1].split(\"_\")[:-1])\n",
    "    output_path = f\"data/fmask_cropped/{file_name}/{file_name}.vrt\"\n",
    "    if not os.path.exists(f\"data/fmask_cropped/{file_name}/\"):\n",
    "                os.makedirs(f\"data/fmask_cropped/{file_name}/\")\n",
    "    fmask_double(fmask_path, output_path)"
   ]
  },
  {
   "cell_type": "code",
   "execution_count": 60,
   "metadata": {},
   "outputs": [],
   "source": [
    "CROP_SIZE = 256"
   ]
  },
  {
   "cell_type": "code",
   "execution_count": null,
   "metadata": {},
   "outputs": [],
   "source": [
    "for fmask in os.listdir(\"data/fmask_cropped/\"):\n",
    "    print(fmask)\n",
    "    image_path = f\"data/fmask_cropped/{fmask}/{fmask}.vrt\"\n",
    "    image = gdal.Open(image_path)\n",
    "    print(f\"Processing {image_path}\")\n",
    "\n",
    "    width = image.RasterXSize\n",
    "    height = image.RasterYSize\n",
    "\n",
    "    gt = image.GetGeoTransform()\n",
    "\n",
    "    min_x = int(gt[0])\n",
    "    min_y = int(gt[3]) - CROP_SIZE * 10\n",
    "    max_x = int(gt[0] + width*gt[1])\n",
    "    max_y = int(gt[3] + height*gt[5]) - CROP_SIZE * 10\n",
    "\n",
    "    x_length = range(min_x, max_x + CROP_SIZE + 1, CROP_SIZE*10)\n",
    "    y_length = range(min_y, max_y - CROP_SIZE + 1, -CROP_SIZE*10)\n",
    "\n",
    "    ALL_XY_COORDINATES = [(x, y) for y in y_length for x in x_length]\n",
    "\n",
    "    if not os.path.isdir(f\"data/fmask_cropped/{fmask}/cropped/\"):\n",
    "        os.makedirs(f\"data/fmask_cropped/{fmask}/cropped/\")\n",
    "    for idx, (x, y) in enumerate(ALL_XY_COORDINATES):\n",
    "        vrt_options = gdal.BuildVRTOptions(resolution=\"highest\", outputBounds=(x, y, x + CROP_SIZE * 10, y + CROP_SIZE * 10))\n",
    "        gdal.BuildVRT(f\"data/fmask_cropped/{fmask}/cropped/{fmask}_{idx}_{x}_{y}_{CROP_SIZE}.vrt\", [image_path], options=vrt_options)"
   ]
  },
  {
   "cell_type": "code",
   "execution_count": null,
   "metadata": {},
   "outputs": [],
   "source": [
    "json_data = {}\n",
    "\n",
    "FMASK_DIRECTORY = f\"data/fmask_cropped/\"\n",
    "\n",
    "for fmask_path in os.listdir(FMASK_DIRECTORY):\n",
    "    print(f\"Processing {fmask_path}\")\n",
    "    path_to_crops = f\"{FMASK_DIRECTORY}{fmask_path}/cropped/\"\n",
    "    for im_path in os.listdir(path_to_crops):\n",
    "        x, y = int(im_path.split(\"_\")[-3]), int(im_path.split(\"_\")[-2])\n",
    "        gdal_data = gdal.Open(f\"{FMASK_DIRECTORY}{fmask_path}/cropped/{im_path}\")\n",
    "        data = gdal_data.ReadAsArray()\n",
    "        \n",
    "        shape = data.size\n",
    "        \n",
    "        count = dict(Counter(itertools.chain(*data)))\n",
    "        map = {MAP_CLOUD[k]: round((v/shape)*100, 2) for k, v in count.items()}\n",
    "        \n",
    "        json_data[im_path.split(\"/\")[-1]] = dict(sorted(map.items(), key=lambda x: -x[1]))\n",
    "\n",
    "with open(\"data/fmask_cropped_stats.json\", \"w\") as f:\n",
    "    json.dump(json_data, f)"
   ]
  },
  {
   "attachments": {},
   "cell_type": "markdown",
   "metadata": {},
   "source": [
    "# Filter Unwanted data, and separate cloudy and cloud free, closest date"
   ]
  },
  {
   "cell_type": "code",
   "execution_count": 5,
   "metadata": {},
   "outputs": [],
   "source": [
    "with open(\"data/fmask_cropped_stats.json\", \"r\") as f:\n",
    "    fmask_data = json.load(f)"
   ]
  },
  {
   "attachments": {},
   "cell_type": "markdown",
   "metadata": {},
   "source": [
    "Remove the mark of no observation (orbits)"
   ]
  },
  {
   "cell_type": "code",
   "execution_count": 6,
   "metadata": {},
   "outputs": [],
   "source": [
    "fmask_data_filtered_no_observation = {}\n",
    "\n",
    "for k, v in fmask_data.items():\n",
    "    if \"no_observation\" not in v or v[\"no_observation\"] < 1:\n",
    "        fmask_data_filtered_no_observation[k] = v\n"
   ]
  },
  {
   "attachments": {},
   "cell_type": "markdown",
   "metadata": {},
   "source": [
    "Remove the water"
   ]
  },
  {
   "cell_type": "code",
   "execution_count": 7,
   "metadata": {},
   "outputs": [],
   "source": [
    "fmask_filtered_obs_water = {}\n",
    "\n",
    "for k, v in fmask_data_filtered_no_observation.items():\n",
    "    if \"cloud_water\" not in v or (\"cloud_water\" in v and v[\"cloud_water\"] < 1):\n",
    "        fmask_filtered_obs_water[k] = v"
   ]
  },
  {
   "attachments": {},
   "cell_type": "markdown",
   "metadata": {},
   "source": [
    "Filter cloudy images ..."
   ]
  },
  {
   "cell_type": "code",
   "execution_count": 8,
   "metadata": {},
   "outputs": [],
   "source": [
    "cloudy_fmask_data = {}\n",
    "\n",
    "for k, v in fmask_filtered_obs_water.items():\n",
    "    if \"cloud\" in v and v[\"cloud\"] > 10:\n",
    "        cloudy_fmask_data[k] = v"
   ]
  },
  {
   "attachments": {},
   "cell_type": "markdown",
   "metadata": {},
   "source": [
    "Filter Cloud free images"
   ]
  },
  {
   "cell_type": "code",
   "execution_count": 9,
   "metadata": {},
   "outputs": [],
   "source": [
    "cloud_free_fmask_data = {}\n",
    "\n",
    "for k, v in fmask_filtered_obs_water.items():\n",
    "    if \"cloud\" not in v or v[\"cloud\"] < 1:\n",
    "        cloud_free_fmask_data[k] = v"
   ]
  },
  {
   "attachments": {},
   "cell_type": "markdown",
   "metadata": {},
   "source": [
    "# Create all the candidates data"
   ]
  },
  {
   "attachments": {},
   "cell_type": "markdown",
   "metadata": {},
   "source": [
    "Utility function to find the cloud free image that is the closest."
   ]
  },
  {
   "cell_type": "code",
   "execution_count": 10,
   "metadata": {},
   "outputs": [],
   "source": [
    "def find_closest_date_and_coordinates(target_date, target_x, target_y):\n",
    "    target_date = datetime.strptime(target_date, \"%Y%m%d\")\n",
    "\n",
    "    # Initialize the minimum difference and the result\n",
    "    min_diff = None\n",
    "    result = None\n",
    "\n",
    "    for k, v in cloud_free_fmask_data.items():\n",
    "        date, x, y = k.split(\"_\")[2], k.split(\"_\")[4], k.split(\"_\")[5]\n",
    "        if x == target_x and y == target_y:\n",
    "            # Convert item date string to datetime object\n",
    "            item_date = datetime.strptime(date, \"%Y%m%d\")\n",
    "\n",
    "            # Calculate the time difference\n",
    "            diff = abs(target_date - item_date)\n",
    "\n",
    "            # Update the result if the difference is smaller than the current minimum\n",
    "            if min_diff is None or diff < min_diff:\n",
    "                min_diff = diff\n",
    "                result = k\n",
    "    if result:\n",
    "        return result, min_diff"
   ]
  },
  {
   "cell_type": "code",
   "execution_count": 11,
   "metadata": {},
   "outputs": [],
   "source": [
    "CANDIDATES_FMASK = {}\n",
    "idx = 0\n",
    "for k, v in cloudy_fmask_data.items():\n",
    "    date, x, y = k.split(\"_\")[2], k.split(\"_\")[4], k.split(\"_\")[5]\n",
    "    if s:= find_closest_date_and_coordinates(date, x, y):\n",
    "        if s[1] <= timedelta(days=5):\n",
    "            CANDIDATES_FMASK[idx] = {\n",
    "                \"cloudy\": k,\n",
    "                \"cloud_free\": s[0] \n",
    "            }\n",
    "            idx += 1\n"
   ]
  },
  {
   "cell_type": "code",
   "execution_count": 12,
   "metadata": {},
   "outputs": [
    {
     "data": {
      "text/plain": [
       "118251"
      ]
     },
     "execution_count": 12,
     "metadata": {},
     "output_type": "execute_result"
    }
   ],
   "source": [
    "len(CANDIDATES_FMASK)"
   ]
  },
  {
   "cell_type": "code",
   "execution_count": 13,
   "metadata": {},
   "outputs": [],
   "source": [
    "with open(\"data/candidates_filtered_water_MAXED.json\", \"w\") as f:\n",
    "    json.dump(CANDIDATES_FMASK, f)"
   ]
  }
 ],
 "metadata": {
  "kernelspec": {
   "display_name": "venv",
   "language": "python",
   "name": "python3"
  },
  "language_info": {
   "codemirror_mode": {
    "name": "ipython",
    "version": 3
   },
   "file_extension": ".py",
   "mimetype": "text/x-python",
   "name": "python",
   "nbconvert_exporter": "python",
   "pygments_lexer": "ipython3",
   "version": "3.10.10"
  },
  "orig_nbformat": 4,
  "vscode": {
   "interpreter": {
    "hash": "dea95fc5b86fbf6522516b8c46d4a24409d5c3ef837fd6ef0163978ea2b0251f"
   }
  }
 },
 "nbformat": 4,
 "nbformat_minor": 2
}
